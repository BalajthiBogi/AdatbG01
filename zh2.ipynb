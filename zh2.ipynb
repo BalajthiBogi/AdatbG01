{
    "metadata": {
        "kernelspec": {
            "name": "SQL",
            "display_name": "SQL",
            "language": "sql"
        },
        "language_info": {
            "name": "sql",
            "version": ""
        }
    },
    "nbformat_minor": 2,
    "nbformat": 4,
    "cells": [
        {
            "cell_type": "code",
            "source": [
                "SELECT  f.FOGLALAS_PK AS 'Azonosító',\r\n",
                "        DAY(f.MEDDIG) - DAY(f.METTOL) AS 'Időtartam',\r\n",
                "        LAG(f.METTOL - f.MEDDIG,0,'Előző') OVER (ORDER BY f.FOGLALAS_PK)\r\n",
                "FROM Foglalas f JOIN Szoba sz ON f.SZOBA_FK = sz.SZOBA_ID\r\n",
                "ORDER bY f.FOGLALAS_PK"
            ],
            "metadata": {
                "azdata_cell_guid": "090c25cb-422d-4936-a39f-0baf3191c63e",
                "language": "sql"
            },
            "outputs": [
                {
                    "output_type": "error",
                    "evalue": "Msg 8117, Level 16, State 1, Line 3\r\nOperand data type date is invalid for subtract operator.",
                    "ename": "",
                    "traceback": []
                },
                {
                    "output_type": "display_data",
                    "data": {
                        "text/html": "Total execution time: 00:00:00.003"
                    },
                    "metadata": {}
                }
            ],
            "execution_count": 7
        },
        {
            "cell_type": "code",
            "source": [
                "SELECT v.NEV AS 'Név',\r\n",
                "        f.FELNOTT_SZAM + f.GYERMEK_SZAM AS 'Fő',\r\n",
                "        AVG(f.FELNOTT_SZAM + f.GYERMEK_SZAM) OVER(ROWS BETWEEN\r\n",
                "         3 PRECEDING AND 1 PRECEDING)\r\n",
                "FROM Foglalas f JOIN Vendeg v ON v.USERNEV = f.UGYFEL_FK\r\n",
                "WHERE (f.FELNOTT_SZAM + f.GYERMEK_SZAM) < \r\n",
                "(\r\n",
                "    SELECT AVG(f.FELNOTT_SZAM + f.GYERMEK_SZAM)\r\n",
                "    FROM Vendeg\r\n",
                ")"
            ],
            "metadata": {
                "azdata_cell_guid": "5b367442-3fe8-43eb-9bd1-ade2add59223",
                "language": "sql"
            },
            "outputs": [
                {
                    "output_type": "error",
                    "evalue": "Msg 147, Level 15, State 1, Line 6\r\nAn aggregate may not appear in the WHERE clause unless it is in a subquery contained in a HAVING clause or a select list, and the column being aggregated is an outer reference.",
                    "ename": "",
                    "traceback": []
                },
                {
                    "output_type": "display_data",
                    "data": {
                        "text/html": "Total execution time: 00:00:00.007"
                    },
                    "metadata": {}
                }
            ],
            "execution_count": 10
        },
        {
            "cell_type": "code",
            "source": [
                ""
            ],
            "metadata": {
                "azdata_cell_guid": "a9153ba8-391d-4f80-a58f-633ed44e5143",
                "language": "sql"
            },
            "outputs": [],
            "execution_count": null
        },
        {
            "cell_type": "markdown",
            "source": [
                ""
            ],
            "metadata": {
                "azdata_cell_guid": "3023a62c-dfbc-4ff1-b3ed-e9a548332c7d"
            }
        }
    ]
}