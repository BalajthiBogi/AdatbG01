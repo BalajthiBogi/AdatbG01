{
    "metadata": {
        "kernelspec": {
            "name": "SQL",
            "display_name": "SQL",
            "language": "sql"
        },
        "language_info": {
            "name": "sql",
            "version": ""
        }
    },
    "nbformat_minor": 2,
    "nbformat": 4,
    "cells": [
        {
            "cell_type": "code",
            "source": [
                "SELECT COUNT(f.FELNOTT_SZAM + f.GYERMEK_SZAM) AS 'Foglalásszám',\r\n",
                "CASE \r\n",
                " WHEN v.SZUL_DAT >= '1985' THEN 'Fiatal'\r\n",
                "            WHEN v.SZUL_DAT < '1970' THEN 'Idős'\r\n",
                "            ELSE 'Középkorú'\r\n",
                "        END\r\n",
                "FROM Vendeg v JOIN Foglalas f ON v.USERNEV = f.UGYFEL_FK\r\n",
                "GROUP BY v.SZUL_DAT\r\n",
                "HAVING COUNT(f.FELNOTT_SZAM + f.GYERMEK_SZAM) >= 2"
            ],
            "metadata": {
                "azdata_cell_guid": "37786ab8-e6ce-45a5-9df3-a1f470df530c",
                "language": "sql"
            },
            "outputs": [
                {
                    "output_type": "display_data",
                    "data": {
                        "text/html": "(184 rows affected)"
                    },
                    "metadata": {}
                },
                {
                    "output_type": "display_data",
                    "data": {
                        "text/html": "Total execution time: 00:00:00.070"
                    },
                    "metadata": {}
                },
                {
                    "output_type": "execute_result",
                    "metadata": {},
                    "execution_count": 17,
                    "data": {
                        "application/vnd.dataresource+json": {
                            "schema": {
                                "fields": [
                                    {
                                        "name": "Foglalásszám"
                                    },
                                    {
                                        "name": "(No column name)"
                                    }
                                ]
                            },
                            "data": [
                                {
                                    "Foglalásszám": "5",
                                    "(No column name)": "Idős"
                                },
                                {
                                    "Foglalásszám": "3",
                                    "(No column name)": "Fiatal"
                                },
                                {
                                    "Foglalásszám": "5",
                                    "(No column name)": "Fiatal"
                                },
                                {
                                    "Foglalásszám": "3",
                                    "(No column name)": "Fiatal"
                                },
                                {
                                    "Foglalásszám": "7",
                                    "(No column name)": "Fiatal"
                                },
                                {
                                    "Foglalásszám": "6",
                                    "(No column name)": "Fiatal"
                                },
                                {
                                    "Foglalásszám": "6",
                                    "(No column name)": "Fiatal"
                                },
                                {
                                    "Foglalásszám": "4",
                                    "(No column name)": "Középkorú"
                                },
                                {
                                    "Foglalásszám": "5",
                                    "(No column name)": "Idős"
                                },
                                {
                                    "Foglalásszám": "12",
                                    "(No column name)": "Fiatal"
                                },
                                {
                                    "Foglalásszám": "6",
                                    "(No column name)": "Középkorú"
                                },
                                {
                                    "Foglalásszám": "4",
                                    "(No column name)": "Fiatal"
                                },
                                {
                                    "Foglalásszám": "4",
                                    "(No column name)": "Középkorú"
                                },
                                {
                                    "Foglalásszám": "7",
                                    "(No column name)": "Fiatal"
                                },
                                {
                                    "Foglalásszám": "4",
                                    "(No column name)": "Fiatal"
                                },
                                {
                                    "Foglalásszám": "6",
                                    "(No column name)": "Középkorú"
                                },
                                {
                                    "Foglalásszám": "7",
                                    "(No column name)": "Középkorú"
                                },
                                {
                                    "Foglalásszám": "3",
                                    "(No column name)": "Középkorú"
                                },
                                {
                                    "Foglalásszám": "4",
                                    "(No column name)": "Középkorú"
                                },
                                {
                                    "Foglalásszám": "3",
                                    "(No column name)": "Középkorú"
                                },
                                {
                                    "Foglalásszám": "3",
                                    "(No column name)": "Fiatal"
                                },
                                {
                                    "Foglalásszám": "4",
                                    "(No column name)": "Fiatal"
                                },
                                {
                                    "Foglalásszám": "4",
                                    "(No column name)": "Középkorú"
                                },
                                {
                                    "Foglalásszám": "9",
                                    "(No column name)": "Fiatal"
                                },
                                {
                                    "Foglalásszám": "6",
                                    "(No column name)": "Fiatal"
                                },
                                {
                                    "Foglalásszám": "9",
                                    "(No column name)": "Fiatal"
                                },
                                {
                                    "Foglalásszám": "8",
                                    "(No column name)": "Középkorú"
                                },
                                {
                                    "Foglalásszám": "5",
                                    "(No column name)": "Középkorú"
                                },
                                {
                                    "Foglalásszám": "3",
                                    "(No column name)": "Középkorú"
                                },
                                {
                                    "Foglalásszám": "6",
                                    "(No column name)": "Fiatal"
                                },
                                {
                                    "Foglalásszám": "3",
                                    "(No column name)": "Fiatal"
                                },
                                {
                                    "Foglalásszám": "9",
                                    "(No column name)": "Középkorú"
                                },
                                {
                                    "Foglalásszám": "3",
                                    "(No column name)": "Fiatal"
                                },
                                {
                                    "Foglalásszám": "6",
                                    "(No column name)": "Fiatal"
                                },
                                {
                                    "Foglalásszám": "5",
                                    "(No column name)": "Idős"
                                },
                                {
                                    "Foglalásszám": "7",
                                    "(No column name)": "Fiatal"
                                },
                                {
                                    "Foglalásszám": "6",
                                    "(No column name)": "Középkorú"
                                },
                                {
                                    "Foglalásszám": "3",
                                    "(No column name)": "Középkorú"
                                },
                                {
                                    "Foglalásszám": "6",
                                    "(No column name)": "Fiatal"
                                },
                                {
                                    "Foglalásszám": "7",
                                    "(No column name)": "Fiatal"
                                },
                                {
                                    "Foglalásszám": "6",
                                    "(No column name)": "Fiatal"
                                },
                                {
                                    "Foglalásszám": "5",
                                    "(No column name)": "Fiatal"
                                },
                                {
                                    "Foglalásszám": "10",
                                    "(No column name)": "Fiatal"
                                },
                                {
                                    "Foglalásszám": "4",
                                    "(No column name)": "Középkorú"
                                },
                                {
                                    "Foglalásszám": "4",
                                    "(No column name)": "Fiatal"
                                },
                                {
                                    "Foglalásszám": "7",
                                    "(No column name)": "Középkorú"
                                },
                                {
                                    "Foglalásszám": "3",
                                    "(No column name)": "Középkorú"
                                },
                                {
                                    "Foglalásszám": "8",
                                    "(No column name)": "Középkorú"
                                },
                                {
                                    "Foglalásszám": "6",
                                    "(No column name)": "Középkorú"
                                },
                                {
                                    "Foglalásszám": "4",
                                    "(No column name)": "Középkorú"
                                },
                                {
                                    "Foglalásszám": "4",
                                    "(No column name)": "Középkorú"
                                },
                                {
                                    "Foglalásszám": "4",
                                    "(No column name)": "Fiatal"
                                },
                                {
                                    "Foglalásszám": "9",
                                    "(No column name)": "Középkorú"
                                },
                                {
                                    "Foglalásszám": "5",
                                    "(No column name)": "Fiatal"
                                },
                                {
                                    "Foglalásszám": "5",
                                    "(No column name)": "Középkorú"
                                },
                                {
                                    "Foglalásszám": "4",
                                    "(No column name)": "Fiatal"
                                },
                                {
                                    "Foglalásszám": "2",
                                    "(No column name)": "Középkorú"
                                },
                                {
                                    "Foglalásszám": "9",
                                    "(No column name)": "Fiatal"
                                },
                                {
                                    "Foglalásszám": "6",
                                    "(No column name)": "Középkorú"
                                },
                                {
                                    "Foglalásszám": "6",
                                    "(No column name)": "Középkorú"
                                },
                                {
                                    "Foglalásszám": "8",
                                    "(No column name)": "Középkorú"
                                },
                                {
                                    "Foglalásszám": "9",
                                    "(No column name)": "Idős"
                                },
                                {
                                    "Foglalásszám": "6",
                                    "(No column name)": "Középkorú"
                                },
                                {
                                    "Foglalásszám": "3",
                                    "(No column name)": "Fiatal"
                                },
                                {
                                    "Foglalásszám": "8",
                                    "(No column name)": "Középkorú"
                                },
                                {
                                    "Foglalásszám": "4",
                                    "(No column name)": "Középkorú"
                                },
                                {
                                    "Foglalásszám": "6",
                                    "(No column name)": "Középkorú"
                                },
                                {
                                    "Foglalásszám": "2",
                                    "(No column name)": "Fiatal"
                                },
                                {
                                    "Foglalásszám": "6",
                                    "(No column name)": "Fiatal"
                                },
                                {
                                    "Foglalásszám": "5",
                                    "(No column name)": "Idős"
                                },
                                {
                                    "Foglalásszám": "8",
                                    "(No column name)": "Fiatal"
                                },
                                {
                                    "Foglalásszám": "2",
                                    "(No column name)": "Fiatal"
                                },
                                {
                                    "Foglalásszám": "4",
                                    "(No column name)": "Fiatal"
                                },
                                {
                                    "Foglalásszám": "3",
                                    "(No column name)": "Fiatal"
                                },
                                {
                                    "Foglalásszám": "4",
                                    "(No column name)": "Idős"
                                },
                                {
                                    "Foglalásszám": "5",
                                    "(No column name)": "Középkorú"
                                },
                                {
                                    "Foglalásszám": "5",
                                    "(No column name)": "Fiatal"
                                },
                                {
                                    "Foglalásszám": "10",
                                    "(No column name)": "Középkorú"
                                },
                                {
                                    "Foglalásszám": "6",
                                    "(No column name)": "Középkorú"
                                },
                                {
                                    "Foglalásszám": "3",
                                    "(No column name)": "Fiatal"
                                },
                                {
                                    "Foglalásszám": "10",
                                    "(No column name)": "Fiatal"
                                },
                                {
                                    "Foglalásszám": "9",
                                    "(No column name)": "Középkorú"
                                },
                                {
                                    "Foglalásszám": "7",
                                    "(No column name)": "Idős"
                                },
                                {
                                    "Foglalásszám": "7",
                                    "(No column name)": "Középkorú"
                                },
                                {
                                    "Foglalásszám": "2",
                                    "(No column name)": "Középkorú"
                                },
                                {
                                    "Foglalásszám": "8",
                                    "(No column name)": "Fiatal"
                                },
                                {
                                    "Foglalásszám": "7",
                                    "(No column name)": "Középkorú"
                                },
                                {
                                    "Foglalásszám": "20",
                                    "(No column name)": "Fiatal"
                                },
                                {
                                    "Foglalásszám": "5",
                                    "(No column name)": "Középkorú"
                                },
                                {
                                    "Foglalásszám": "3",
                                    "(No column name)": "Középkorú"
                                },
                                {
                                    "Foglalásszám": "3",
                                    "(No column name)": "Középkorú"
                                },
                                {
                                    "Foglalásszám": "4",
                                    "(No column name)": "Középkorú"
                                },
                                {
                                    "Foglalásszám": "5",
                                    "(No column name)": "Fiatal"
                                },
                                {
                                    "Foglalásszám": "3",
                                    "(No column name)": "Középkorú"
                                },
                                {
                                    "Foglalásszám": "2",
                                    "(No column name)": "Fiatal"
                                },
                                {
                                    "Foglalásszám": "3",
                                    "(No column name)": "Fiatal"
                                },
                                {
                                    "Foglalásszám": "6",
                                    "(No column name)": "Középkorú"
                                },
                                {
                                    "Foglalásszám": "6",
                                    "(No column name)": "Idős"
                                },
                                {
                                    "Foglalásszám": "5",
                                    "(No column name)": "Fiatal"
                                },
                                {
                                    "Foglalásszám": "2",
                                    "(No column name)": "Középkorú"
                                },
                                {
                                    "Foglalásszám": "6",
                                    "(No column name)": "Középkorú"
                                },
                                {
                                    "Foglalásszám": "9",
                                    "(No column name)": "Középkorú"
                                },
                                {
                                    "Foglalásszám": "4",
                                    "(No column name)": "Fiatal"
                                },
                                {
                                    "Foglalásszám": "5",
                                    "(No column name)": "Idős"
                                },
                                {
                                    "Foglalásszám": "9",
                                    "(No column name)": "Középkorú"
                                },
                                {
                                    "Foglalásszám": "7",
                                    "(No column name)": "Középkorú"
                                },
                                {
                                    "Foglalásszám": "4",
                                    "(No column name)": "Középkorú"
                                },
                                {
                                    "Foglalásszám": "5",
                                    "(No column name)": "Középkorú"
                                },
                                {
                                    "Foglalásszám": "12",
                                    "(No column name)": "Középkorú"
                                },
                                {
                                    "Foglalásszám": "4",
                                    "(No column name)": "Középkorú"
                                },
                                {
                                    "Foglalásszám": "3",
                                    "(No column name)": "Fiatal"
                                },
                                {
                                    "Foglalásszám": "4",
                                    "(No column name)": "Középkorú"
                                },
                                {
                                    "Foglalásszám": "2",
                                    "(No column name)": "Középkorú"
                                },
                                {
                                    "Foglalásszám": "3",
                                    "(No column name)": "Fiatal"
                                },
                                {
                                    "Foglalásszám": "8",
                                    "(No column name)": "Idős"
                                },
                                {
                                    "Foglalásszám": "6",
                                    "(No column name)": "Fiatal"
                                },
                                {
                                    "Foglalásszám": "7",
                                    "(No column name)": "Fiatal"
                                },
                                {
                                    "Foglalásszám": "4",
                                    "(No column name)": "Fiatal"
                                },
                                {
                                    "Foglalásszám": "6",
                                    "(No column name)": "Középkorú"
                                },
                                {
                                    "Foglalásszám": "6",
                                    "(No column name)": "Fiatal"
                                },
                                {
                                    "Foglalásszám": "4",
                                    "(No column name)": "Középkorú"
                                },
                                {
                                    "Foglalásszám": "7",
                                    "(No column name)": "Fiatal"
                                },
                                {
                                    "Foglalásszám": "6",
                                    "(No column name)": "Fiatal"
                                },
                                {
                                    "Foglalásszám": "2",
                                    "(No column name)": "Fiatal"
                                },
                                {
                                    "Foglalásszám": "4",
                                    "(No column name)": "Fiatal"
                                },
                                {
                                    "Foglalásszám": "8",
                                    "(No column name)": "Középkorú"
                                },
                                {
                                    "Foglalásszám": "8",
                                    "(No column name)": "Középkorú"
                                },
                                {
                                    "Foglalásszám": "4",
                                    "(No column name)": "Fiatal"
                                },
                                {
                                    "Foglalásszám": "10",
                                    "(No column name)": "Középkorú"
                                },
                                {
                                    "Foglalásszám": "8",
                                    "(No column name)": "Idős"
                                },
                                {
                                    "Foglalásszám": "5",
                                    "(No column name)": "Idős"
                                },
                                {
                                    "Foglalásszám": "2",
                                    "(No column name)": "Fiatal"
                                },
                                {
                                    "Foglalásszám": "4",
                                    "(No column name)": "Fiatal"
                                },
                                {
                                    "Foglalásszám": "6",
                                    "(No column name)": "Középkorú"
                                },
                                {
                                    "Foglalásszám": "3",
                                    "(No column name)": "Középkorú"
                                },
                                {
                                    "Foglalásszám": "5",
                                    "(No column name)": "Fiatal"
                                },
                                {
                                    "Foglalásszám": "4",
                                    "(No column name)": "Középkorú"
                                },
                                {
                                    "Foglalásszám": "7",
                                    "(No column name)": "Fiatal"
                                },
                                {
                                    "Foglalásszám": "4",
                                    "(No column name)": "Középkorú"
                                },
                                {
                                    "Foglalásszám": "2",
                                    "(No column name)": "Fiatal"
                                },
                                {
                                    "Foglalásszám": "7",
                                    "(No column name)": "Középkorú"
                                },
                                {
                                    "Foglalásszám": "6",
                                    "(No column name)": "Középkorú"
                                },
                                {
                                    "Foglalásszám": "12",
                                    "(No column name)": "Középkorú"
                                },
                                {
                                    "Foglalásszám": "5",
                                    "(No column name)": "Középkorú"
                                },
                                {
                                    "Foglalásszám": "4",
                                    "(No column name)": "Fiatal"
                                },
                                {
                                    "Foglalásszám": "3",
                                    "(No column name)": "Fiatal"
                                },
                                {
                                    "Foglalásszám": "4",
                                    "(No column name)": "Középkorú"
                                },
                                {
                                    "Foglalásszám": "7",
                                    "(No column name)": "Középkorú"
                                },
                                {
                                    "Foglalásszám": "5",
                                    "(No column name)": "Idős"
                                },
                                {
                                    "Foglalásszám": "10",
                                    "(No column name)": "Idős"
                                },
                                {
                                    "Foglalásszám": "3",
                                    "(No column name)": "Középkorú"
                                },
                                {
                                    "Foglalásszám": "2",
                                    "(No column name)": "Középkorú"
                                },
                                {
                                    "Foglalásszám": "3",
                                    "(No column name)": "Idős"
                                },
                                {
                                    "Foglalásszám": "12",
                                    "(No column name)": "Fiatal"
                                },
                                {
                                    "Foglalásszám": "6",
                                    "(No column name)": "Idős"
                                },
                                {
                                    "Foglalásszám": "3",
                                    "(No column name)": "Középkorú"
                                },
                                {
                                    "Foglalásszám": "4",
                                    "(No column name)": "Idős"
                                },
                                {
                                    "Foglalásszám": "2",
                                    "(No column name)": "Fiatal"
                                },
                                {
                                    "Foglalásszám": "9",
                                    "(No column name)": "Fiatal"
                                },
                                {
                                    "Foglalásszám": "6",
                                    "(No column name)": "Idős"
                                },
                                {
                                    "Foglalásszám": "7",
                                    "(No column name)": "Fiatal"
                                },
                                {
                                    "Foglalásszám": "4",
                                    "(No column name)": "Fiatal"
                                },
                                {
                                    "Foglalásszám": "7",
                                    "(No column name)": "Idős"
                                },
                                {
                                    "Foglalásszám": "3",
                                    "(No column name)": "Idős"
                                },
                                {
                                    "Foglalásszám": "9",
                                    "(No column name)": "Középkorú"
                                },
                                {
                                    "Foglalásszám": "6",
                                    "(No column name)": "Középkorú"
                                },
                                {
                                    "Foglalásszám": "5",
                                    "(No column name)": "Fiatal"
                                },
                                {
                                    "Foglalásszám": "9",
                                    "(No column name)": "Középkorú"
                                },
                                {
                                    "Foglalásszám": "8",
                                    "(No column name)": "Fiatal"
                                },
                                {
                                    "Foglalásszám": "6",
                                    "(No column name)": "Középkorú"
                                },
                                {
                                    "Foglalásszám": "3",
                                    "(No column name)": "Fiatal"
                                },
                                {
                                    "Foglalásszám": "4",
                                    "(No column name)": "Fiatal"
                                },
                                {
                                    "Foglalásszám": "5",
                                    "(No column name)": "Fiatal"
                                },
                                {
                                    "Foglalásszám": "6",
                                    "(No column name)": "Középkorú"
                                },
                                {
                                    "Foglalásszám": "6",
                                    "(No column name)": "Középkorú"
                                },
                                {
                                    "Foglalásszám": "5",
                                    "(No column name)": "Fiatal"
                                },
                                {
                                    "Foglalásszám": "13",
                                    "(No column name)": "Fiatal"
                                },
                                {
                                    "Foglalásszám": "8",
                                    "(No column name)": "Középkorú"
                                },
                                {
                                    "Foglalásszám": "5",
                                    "(No column name)": "Fiatal"
                                },
                                {
                                    "Foglalásszám": "2",
                                    "(No column name)": "Idős"
                                },
                                {
                                    "Foglalásszám": "2",
                                    "(No column name)": "Középkorú"
                                },
                                {
                                    "Foglalásszám": "3",
                                    "(No column name)": "Középkorú"
                                },
                                {
                                    "Foglalásszám": "5",
                                    "(No column name)": "Középkorú"
                                },
                                {
                                    "Foglalásszám": "7",
                                    "(No column name)": "Középkorú"
                                }
                            ]
                        },
                        "text/html": [
                            "<table>",
                            "<tr><th>Foglalásszám</th><th>(No column name)</th></tr>",
                            "<tr><td>5</td><td>Idős</td></tr>",
                            "<tr><td>3</td><td>Fiatal</td></tr>",
                            "<tr><td>5</td><td>Fiatal</td></tr>",
                            "<tr><td>3</td><td>Fiatal</td></tr>",
                            "<tr><td>7</td><td>Fiatal</td></tr>",
                            "<tr><td>6</td><td>Fiatal</td></tr>",
                            "<tr><td>6</td><td>Fiatal</td></tr>",
                            "<tr><td>4</td><td>Középkorú</td></tr>",
                            "<tr><td>5</td><td>Idős</td></tr>",
                            "<tr><td>12</td><td>Fiatal</td></tr>",
                            "<tr><td>6</td><td>Középkorú</td></tr>",
                            "<tr><td>4</td><td>Fiatal</td></tr>",
                            "<tr><td>4</td><td>Középkorú</td></tr>",
                            "<tr><td>7</td><td>Fiatal</td></tr>",
                            "<tr><td>4</td><td>Fiatal</td></tr>",
                            "<tr><td>6</td><td>Középkorú</td></tr>",
                            "<tr><td>7</td><td>Középkorú</td></tr>",
                            "<tr><td>3</td><td>Középkorú</td></tr>",
                            "<tr><td>4</td><td>Középkorú</td></tr>",
                            "<tr><td>3</td><td>Középkorú</td></tr>",
                            "<tr><td>3</td><td>Fiatal</td></tr>",
                            "<tr><td>4</td><td>Fiatal</td></tr>",
                            "<tr><td>4</td><td>Középkorú</td></tr>",
                            "<tr><td>9</td><td>Fiatal</td></tr>",
                            "<tr><td>6</td><td>Fiatal</td></tr>",
                            "<tr><td>9</td><td>Fiatal</td></tr>",
                            "<tr><td>8</td><td>Középkorú</td></tr>",
                            "<tr><td>5</td><td>Középkorú</td></tr>",
                            "<tr><td>3</td><td>Középkorú</td></tr>",
                            "<tr><td>6</td><td>Fiatal</td></tr>",
                            "<tr><td>3</td><td>Fiatal</td></tr>",
                            "<tr><td>9</td><td>Középkorú</td></tr>",
                            "<tr><td>3</td><td>Fiatal</td></tr>",
                            "<tr><td>6</td><td>Fiatal</td></tr>",
                            "<tr><td>5</td><td>Idős</td></tr>",
                            "<tr><td>7</td><td>Fiatal</td></tr>",
                            "<tr><td>6</td><td>Középkorú</td></tr>",
                            "<tr><td>3</td><td>Középkorú</td></tr>",
                            "<tr><td>6</td><td>Fiatal</td></tr>",
                            "<tr><td>7</td><td>Fiatal</td></tr>",
                            "<tr><td>6</td><td>Fiatal</td></tr>",
                            "<tr><td>5</td><td>Fiatal</td></tr>",
                            "<tr><td>10</td><td>Fiatal</td></tr>",
                            "<tr><td>4</td><td>Középkorú</td></tr>",
                            "<tr><td>4</td><td>Fiatal</td></tr>",
                            "<tr><td>7</td><td>Középkorú</td></tr>",
                            "<tr><td>3</td><td>Középkorú</td></tr>",
                            "<tr><td>8</td><td>Középkorú</td></tr>",
                            "<tr><td>6</td><td>Középkorú</td></tr>",
                            "<tr><td>4</td><td>Középkorú</td></tr>",
                            "<tr><td>4</td><td>Középkorú</td></tr>",
                            "<tr><td>4</td><td>Fiatal</td></tr>",
                            "<tr><td>9</td><td>Középkorú</td></tr>",
                            "<tr><td>5</td><td>Fiatal</td></tr>",
                            "<tr><td>5</td><td>Középkorú</td></tr>",
                            "<tr><td>4</td><td>Fiatal</td></tr>",
                            "<tr><td>2</td><td>Középkorú</td></tr>",
                            "<tr><td>9</td><td>Fiatal</td></tr>",
                            "<tr><td>6</td><td>Középkorú</td></tr>",
                            "<tr><td>6</td><td>Középkorú</td></tr>",
                            "<tr><td>8</td><td>Középkorú</td></tr>",
                            "<tr><td>9</td><td>Idős</td></tr>",
                            "<tr><td>6</td><td>Középkorú</td></tr>",
                            "<tr><td>3</td><td>Fiatal</td></tr>",
                            "<tr><td>8</td><td>Középkorú</td></tr>",
                            "<tr><td>4</td><td>Középkorú</td></tr>",
                            "<tr><td>6</td><td>Középkorú</td></tr>",
                            "<tr><td>2</td><td>Fiatal</td></tr>",
                            "<tr><td>6</td><td>Fiatal</td></tr>",
                            "<tr><td>5</td><td>Idős</td></tr>",
                            "<tr><td>8</td><td>Fiatal</td></tr>",
                            "<tr><td>2</td><td>Fiatal</td></tr>",
                            "<tr><td>4</td><td>Fiatal</td></tr>",
                            "<tr><td>3</td><td>Fiatal</td></tr>",
                            "<tr><td>4</td><td>Idős</td></tr>",
                            "<tr><td>5</td><td>Középkorú</td></tr>",
                            "<tr><td>5</td><td>Fiatal</td></tr>",
                            "<tr><td>10</td><td>Középkorú</td></tr>",
                            "<tr><td>6</td><td>Középkorú</td></tr>",
                            "<tr><td>3</td><td>Fiatal</td></tr>",
                            "<tr><td>10</td><td>Fiatal</td></tr>",
                            "<tr><td>9</td><td>Középkorú</td></tr>",
                            "<tr><td>7</td><td>Idős</td></tr>",
                            "<tr><td>7</td><td>Középkorú</td></tr>",
                            "<tr><td>2</td><td>Középkorú</td></tr>",
                            "<tr><td>8</td><td>Fiatal</td></tr>",
                            "<tr><td>7</td><td>Középkorú</td></tr>",
                            "<tr><td>20</td><td>Fiatal</td></tr>",
                            "<tr><td>5</td><td>Középkorú</td></tr>",
                            "<tr><td>3</td><td>Középkorú</td></tr>",
                            "<tr><td>3</td><td>Középkorú</td></tr>",
                            "<tr><td>4</td><td>Középkorú</td></tr>",
                            "<tr><td>5</td><td>Fiatal</td></tr>",
                            "<tr><td>3</td><td>Középkorú</td></tr>",
                            "<tr><td>2</td><td>Fiatal</td></tr>",
                            "<tr><td>3</td><td>Fiatal</td></tr>",
                            "<tr><td>6</td><td>Középkorú</td></tr>",
                            "<tr><td>6</td><td>Idős</td></tr>",
                            "<tr><td>5</td><td>Fiatal</td></tr>",
                            "<tr><td>2</td><td>Középkorú</td></tr>",
                            "<tr><td>6</td><td>Középkorú</td></tr>",
                            "<tr><td>9</td><td>Középkorú</td></tr>",
                            "<tr><td>4</td><td>Fiatal</td></tr>",
                            "<tr><td>5</td><td>Idős</td></tr>",
                            "<tr><td>9</td><td>Középkorú</td></tr>",
                            "<tr><td>7</td><td>Középkorú</td></tr>",
                            "<tr><td>4</td><td>Középkorú</td></tr>",
                            "<tr><td>5</td><td>Középkorú</td></tr>",
                            "<tr><td>12</td><td>Középkorú</td></tr>",
                            "<tr><td>4</td><td>Középkorú</td></tr>",
                            "<tr><td>3</td><td>Fiatal</td></tr>",
                            "<tr><td>4</td><td>Középkorú</td></tr>",
                            "<tr><td>2</td><td>Középkorú</td></tr>",
                            "<tr><td>3</td><td>Fiatal</td></tr>",
                            "<tr><td>8</td><td>Idős</td></tr>",
                            "<tr><td>6</td><td>Fiatal</td></tr>",
                            "<tr><td>7</td><td>Fiatal</td></tr>",
                            "<tr><td>4</td><td>Fiatal</td></tr>",
                            "<tr><td>6</td><td>Középkorú</td></tr>",
                            "<tr><td>6</td><td>Fiatal</td></tr>",
                            "<tr><td>4</td><td>Középkorú</td></tr>",
                            "<tr><td>7</td><td>Fiatal</td></tr>",
                            "<tr><td>6</td><td>Fiatal</td></tr>",
                            "<tr><td>2</td><td>Fiatal</td></tr>",
                            "<tr><td>4</td><td>Fiatal</td></tr>",
                            "<tr><td>8</td><td>Középkorú</td></tr>",
                            "<tr><td>8</td><td>Középkorú</td></tr>",
                            "<tr><td>4</td><td>Fiatal</td></tr>",
                            "<tr><td>10</td><td>Középkorú</td></tr>",
                            "<tr><td>8</td><td>Idős</td></tr>",
                            "<tr><td>5</td><td>Idős</td></tr>",
                            "<tr><td>2</td><td>Fiatal</td></tr>",
                            "<tr><td>4</td><td>Fiatal</td></tr>",
                            "<tr><td>6</td><td>Középkorú</td></tr>",
                            "<tr><td>3</td><td>Középkorú</td></tr>",
                            "<tr><td>5</td><td>Fiatal</td></tr>",
                            "<tr><td>4</td><td>Középkorú</td></tr>",
                            "<tr><td>7</td><td>Fiatal</td></tr>",
                            "<tr><td>4</td><td>Középkorú</td></tr>",
                            "<tr><td>2</td><td>Fiatal</td></tr>",
                            "<tr><td>7</td><td>Középkorú</td></tr>",
                            "<tr><td>6</td><td>Középkorú</td></tr>",
                            "<tr><td>12</td><td>Középkorú</td></tr>",
                            "<tr><td>5</td><td>Középkorú</td></tr>",
                            "<tr><td>4</td><td>Fiatal</td></tr>",
                            "<tr><td>3</td><td>Fiatal</td></tr>",
                            "<tr><td>4</td><td>Középkorú</td></tr>",
                            "<tr><td>7</td><td>Középkorú</td></tr>",
                            "<tr><td>5</td><td>Idős</td></tr>",
                            "<tr><td>10</td><td>Idős</td></tr>",
                            "<tr><td>3</td><td>Középkorú</td></tr>",
                            "<tr><td>2</td><td>Középkorú</td></tr>",
                            "<tr><td>3</td><td>Idős</td></tr>",
                            "<tr><td>12</td><td>Fiatal</td></tr>",
                            "<tr><td>6</td><td>Idős</td></tr>",
                            "<tr><td>3</td><td>Középkorú</td></tr>",
                            "<tr><td>4</td><td>Idős</td></tr>",
                            "<tr><td>2</td><td>Fiatal</td></tr>",
                            "<tr><td>9</td><td>Fiatal</td></tr>",
                            "<tr><td>6</td><td>Idős</td></tr>",
                            "<tr><td>7</td><td>Fiatal</td></tr>",
                            "<tr><td>4</td><td>Fiatal</td></tr>",
                            "<tr><td>7</td><td>Idős</td></tr>",
                            "<tr><td>3</td><td>Idős</td></tr>",
                            "<tr><td>9</td><td>Középkorú</td></tr>",
                            "<tr><td>6</td><td>Középkorú</td></tr>",
                            "<tr><td>5</td><td>Fiatal</td></tr>",
                            "<tr><td>9</td><td>Középkorú</td></tr>",
                            "<tr><td>8</td><td>Fiatal</td></tr>",
                            "<tr><td>6</td><td>Középkorú</td></tr>",
                            "<tr><td>3</td><td>Fiatal</td></tr>",
                            "<tr><td>4</td><td>Fiatal</td></tr>",
                            "<tr><td>5</td><td>Fiatal</td></tr>",
                            "<tr><td>6</td><td>Középkorú</td></tr>",
                            "<tr><td>6</td><td>Középkorú</td></tr>",
                            "<tr><td>5</td><td>Fiatal</td></tr>",
                            "<tr><td>13</td><td>Fiatal</td></tr>",
                            "<tr><td>8</td><td>Középkorú</td></tr>",
                            "<tr><td>5</td><td>Fiatal</td></tr>",
                            "<tr><td>2</td><td>Idős</td></tr>",
                            "<tr><td>2</td><td>Középkorú</td></tr>",
                            "<tr><td>3</td><td>Középkorú</td></tr>",
                            "<tr><td>5</td><td>Középkorú</td></tr>",
                            "<tr><td>7</td><td>Középkorú</td></tr>",
                            "</table>"
                        ]
                    }
                }
            ],
            "execution_count": 17
        },
        {
            "cell_type": "code",
            "source": [
                ""
            ],
            "metadata": {
                "azdata_cell_guid": "48967b95-68e3-4668-9b57-0f34375bf5f5",
                "language": "sql"
            },
            "outputs": [
                {
                    "output_type": "error",
                    "evalue": "Msg 156, Level 15, State 1, Line 4\r\nIncorrect syntax near the keyword 'null'.",
                    "ename": "",
                    "traceback": []
                },
                {
                    "output_type": "display_data",
                    "data": {
                        "text/html": "Total execution time: 00:00:00.002"
                    },
                    "metadata": {}
                }
            ],
            "execution_count": 16
        }
    ]
}