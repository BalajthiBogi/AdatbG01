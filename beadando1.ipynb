{
    "metadata": {
        "kernelspec": {
            "name": "SQL",
            "display_name": "SQL",
            "language": "sql"
        },
        "language_info": {
            "name": "sql",
            "version": ""
        }
    },
    "nbformat_minor": 2,
    "nbformat": 4,
    "cells": [
        {
            "cell_type": "markdown",
            "source": [
                "# **<u>Első házi feladat</u>**"
            ],
            "metadata": {
                "azdata_cell_guid": "a4a60930-30c7-466e-8f04-812bd510955d"
            },
            "attachments": {}
        },
        {
            "cell_type": "markdown",
            "source": [
                "## **Fizetési módok null értékeinek vizsgálata**\n",
                "\n",
                "(hány darab null érték van az oszlopban)"
            ],
            "metadata": {
                "azdata_cell_guid": "636d2c95-515f-4f60-8f3c-dd5baa2322a8"
            },
            "attachments": {}
        },
        {
            "cell_type": "code",
            "source": [
                "SELECT \r\n",
                "    COUNT(*) AS 'Összesen',\r\n",
                "    SUM(CASE WHEN FIZ_MOD IS NULL THEN 1 ELSE 0 END) AS 'Null érték'\r\n",
                "FROM Rendeles"
            ],
            "metadata": {
                "azdata_cell_guid": "d1745e73-0703-46e8-b64a-abb6fdb47c29",
                "language": "sql"
            },
            "outputs": [
                {
                    "output_type": "display_data",
                    "data": {
                        "text/html": "(1 row affected)"
                    },
                    "metadata": {}
                },
                {
                    "output_type": "display_data",
                    "data": {
                        "text/html": "Total execution time: 00:00:00.038"
                    },
                    "metadata": {}
                },
                {
                    "output_type": "execute_result",
                    "metadata": {},
                    "execution_count": 20,
                    "data": {
                        "application/vnd.dataresource+json": {
                            "schema": {
                                "fields": [
                                    {
                                        "name": "Összesen"
                                    },
                                    {
                                        "name": "Null érték"
                                    }
                                ]
                            },
                            "data": [
                                {
                                    "Összesen": "28085",
                                    "Null érték": "0"
                                }
                            ]
                        },
                        "text/html": [
                            "<table>",
                            "<tr><th>Összesen</th><th>Null érték</th></tr>",
                            "<tr><td>28085</td><td>0</td></tr>",
                            "</table>"
                        ]
                    }
                }
            ],
            "execution_count": 20
        },
        {
            "cell_type": "markdown",
            "source": [
                "## **Fizetési módok eloszlása**\n",
                "\n",
                "(hányszor történt fizetés bankkártyával, átutalással vagy készpénzzel)"
            ],
            "metadata": {
                "azdata_cell_guid": "622184d2-4a5a-467e-ab80-8046487694ad"
            },
            "attachments": {}
        },
        {
            "cell_type": "code",
            "source": [
                "SELECT FIZ_MOD, \r\n",
                "        COUNT(*) AS 'DB' \r\n",
                "FROM Rendeles\r\n",
                "GROUP BY FIZ_MOD\r\n",
                "ORDER BY COUNT(*) DESC"
            ],
            "metadata": {
                "azdata_cell_guid": "3a8c0771-7cde-4b3e-a353-2415b89e61ab",
                "language": "sql",
                "tags": []
            },
            "outputs": [
                {
                    "output_type": "display_data",
                    "data": {
                        "text/html": "(3 rows affected)"
                    },
                    "metadata": {}
                },
                {
                    "output_type": "display_data",
                    "data": {
                        "text/html": "Total execution time: 00:00:00.092"
                    },
                    "metadata": {}
                },
                {
                    "output_type": "execute_result",
                    "metadata": {},
                    "execution_count": 5,
                    "data": {
                        "application/vnd.dataresource+json": {
                            "schema": {
                                "fields": [
                                    {
                                        "name": "FIZ_MOD"
                                    },
                                    {
                                        "name": "DB"
                                    }
                                ]
                            },
                            "data": [
                                {
                                    "FIZ_MOD": "Bankkártya",
                                    "DB": "14003"
                                },
                                {
                                    "FIZ_MOD": "Átutalás",
                                    "DB": "11284"
                                },
                                {
                                    "FIZ_MOD": "Készpénz",
                                    "DB": "2798"
                                }
                            ]
                        },
                        "text/html": [
                            "<table>",
                            "<tr><th>FIZ_MOD</th><th>DB</th></tr>",
                            "<tr><td>Bankkártya</td><td>14003</td></tr>",
                            "<tr><td>Átutalás</td><td>11284</td></tr>",
                            "<tr><td>Készpénz</td><td>2798</td></tr>",
                            "</table>"
                        ]
                    }
                }
            ],
            "execution_count": 5
        },
        {
            "cell_type": "markdown",
            "source": [
                "## **Szállítási módok null értékeinek vizsgálata**\n",
                "\n",
                "(hány darab null érték van az oszlopban)"
            ],
            "metadata": {
                "azdata_cell_guid": "0a26dcc1-ab85-49bd-acfe-50448f7021d2"
            },
            "attachments": {}
        },
        {
            "cell_type": "code",
            "source": [
                "SELECT \r\n",
                "    COUNT(*) AS 'Összesen',\r\n",
                "    SUM(CASE WHEN SZALL_MOD IS NULL THEN 1 ELSE 0 END) AS 'Null érték'\r\n",
                "FROM Rendeles"
            ],
            "metadata": {
                "azdata_cell_guid": "c0f15c4c-365d-46d5-b168-03e9d416fd61",
                "language": "sql"
            },
            "outputs": [
                {
                    "output_type": "display_data",
                    "data": {
                        "text/html": "(1 row affected)"
                    },
                    "metadata": {}
                },
                {
                    "output_type": "display_data",
                    "data": {
                        "text/html": "Total execution time: 00:00:00.026"
                    },
                    "metadata": {}
                },
                {
                    "output_type": "execute_result",
                    "metadata": {},
                    "execution_count": 19,
                    "data": {
                        "application/vnd.dataresource+json": {
                            "schema": {
                                "fields": [
                                    {
                                        "name": "Összesen"
                                    },
                                    {
                                        "name": "Null érték"
                                    }
                                ]
                            },
                            "data": [
                                {
                                    "Összesen": "28085",
                                    "Null érték": "0"
                                }
                            ]
                        },
                        "text/html": [
                            "<table>",
                            "<tr><th>Összesen</th><th>Null érték</th></tr>",
                            "<tr><td>28085</td><td>0</td></tr>",
                            "</table>"
                        ]
                    }
                }
            ],
            "execution_count": 19
        },
        {
            "cell_type": "markdown",
            "source": [
                "## **Szállítási módok eloszlása**\n",
                "\n",
                "(hányszor történt kiszállítás GLS-el, Postával vagy személyes átvétellel)"
            ],
            "metadata": {
                "azdata_cell_guid": "67bcf8c5-b90c-4669-824c-12f3f86c86e6"
            },
            "attachments": {}
        },
        {
            "cell_type": "code",
            "source": [
                "SELECT SZALL_MOD, \r\n",
                "    COUNT(*) AS 'DB' \r\n",
                "FROM Rendeles\r\n",
                "GROUP BY SZALL_MOD\r\n",
                "ORDER BY COUNT(*) DESC"
            ],
            "metadata": {
                "azdata_cell_guid": "4f6b9877-1451-4c16-a4a5-f36a9cb9c29a",
                "language": "sql",
                "tags": []
            },
            "outputs": [
                {
                    "output_type": "display_data",
                    "data": {
                        "text/html": "(3 rows affected)"
                    },
                    "metadata": {}
                },
                {
                    "output_type": "display_data",
                    "data": {
                        "text/html": "Total execution time: 00:00:00.043"
                    },
                    "metadata": {}
                },
                {
                    "output_type": "execute_result",
                    "metadata": {},
                    "execution_count": 6,
                    "data": {
                        "application/vnd.dataresource+json": {
                            "schema": {
                                "fields": [
                                    {
                                        "name": "SZALL_MOD"
                                    },
                                    {
                                        "name": "DB"
                                    }
                                ]
                            },
                            "data": [
                                {
                                    "SZALL_MOD": "Személyes átvétel",
                                    "DB": "9468"
                                },
                                {
                                    "SZALL_MOD": "GLS",
                                    "DB": "9426"
                                },
                                {
                                    "SZALL_MOD": "Posta",
                                    "DB": "9191"
                                }
                            ]
                        },
                        "text/html": [
                            "<table>",
                            "<tr><th>SZALL_MOD</th><th>DB</th></tr>",
                            "<tr><td>Személyes átvétel</td><td>9468</td></tr>",
                            "<tr><td>GLS</td><td>9426</td></tr>",
                            "<tr><td>Posta</td><td>9191</td></tr>",
                            "</table>"
                        ]
                    }
                }
            ],
            "execution_count": 6
        },
        {
            "cell_type": "markdown",
            "source": [
                "## **Rendelési dátumok null értékeinek vizsgálata**\n",
                "\n",
                "(hány darab null érték van az oszlopban)"
            ],
            "metadata": {
                "azdata_cell_guid": "6902631b-290f-40a0-93f7-ae58b41541cd"
            },
            "attachments": {}
        },
        {
            "cell_type": "code",
            "source": [
                "SELECT \r\n",
                "    COUNT(*) AS 'Összesen',\r\n",
                "    SUM(CASE WHEN REND_DATUM IS NULL THEN 1 ELSE 0 END) AS 'Null érték'\r\n",
                "FROM Rendeles"
            ],
            "metadata": {
                "azdata_cell_guid": "f8fe169b-4cdd-4349-8bf2-fe143c7358f6",
                "language": "sql"
            },
            "outputs": [
                {
                    "output_type": "display_data",
                    "data": {
                        "text/html": "(1 row affected)"
                    },
                    "metadata": {}
                },
                {
                    "output_type": "display_data",
                    "data": {
                        "text/html": "Total execution time: 00:00:00.120"
                    },
                    "metadata": {}
                },
                {
                    "output_type": "execute_result",
                    "metadata": {},
                    "execution_count": 21,
                    "data": {
                        "application/vnd.dataresource+json": {
                            "schema": {
                                "fields": [
                                    {
                                        "name": "Összesen"
                                    },
                                    {
                                        "name": "Null érték"
                                    }
                                ]
                            },
                            "data": [
                                {
                                    "Összesen": "28085",
                                    "Null érték": "0"
                                }
                            ]
                        },
                        "text/html": [
                            "<table>",
                            "<tr><th>Összesen</th><th>Null érték</th></tr>",
                            "<tr><td>28085</td><td>0</td></tr>",
                            "</table>"
                        ]
                    }
                }
            ],
            "execution_count": 21
        },
        {
            "cell_type": "markdown",
            "source": [
                "## **Rendelések időintervalluma**\n",
                "\n",
                "(A megrendelések az adott időintervallumban történtek)"
            ],
            "metadata": {
                "azdata_cell_guid": "b3840b47-06e9-44cf-bdc2-752a4f070b35"
            },
            "attachments": {}
        },
        {
            "cell_type": "code",
            "source": [
                "SELECT \r\n",
                "    MIN(REND_DATUM) AS 'Első_dátum',\r\n",
                "    MAX(REND_DATUM) AS 'Utolsó_dátum'\r\n",
                "FROM Rendeles"
            ],
            "metadata": {
                "azdata_cell_guid": "187923e1-309b-4531-ba03-42aeec4e0ed2",
                "language": "sql"
            },
            "outputs": [
                {
                    "output_type": "display_data",
                    "data": {
                        "text/html": "(1 row affected)"
                    },
                    "metadata": {}
                },
                {
                    "output_type": "display_data",
                    "data": {
                        "text/html": "Total execution time: 00:00:00.045"
                    },
                    "metadata": {}
                },
                {
                    "output_type": "execute_result",
                    "metadata": {},
                    "execution_count": 12,
                    "data": {
                        "application/vnd.dataresource+json": {
                            "schema": {
                                "fields": [
                                    {
                                        "name": "Első_dátum"
                                    },
                                    {
                                        "name": "Utolsó_dátum"
                                    }
                                ]
                            },
                            "data": [
                                {
                                    "Első_dátum": "2015-05-01",
                                    "Utolsó_dátum": "2017-04-01"
                                }
                            ]
                        },
                        "text/html": [
                            "<table>",
                            "<tr><th>Első_dátum</th><th>Utolsó_dátum</th></tr>",
                            "<tr><td>2015-05-01</td><td>2017-04-01</td></tr>",
                            "</table>"
                        ]
                    }
                }
            ],
            "execution_count": 12
        },
        {
            "cell_type": "markdown",
            "source": [
                "## **Rendelések havi eloszlása**\n",
                "\n",
                "(hány darab megrendelés történt az adott hónapban)"
            ],
            "metadata": {
                "azdata_cell_guid": "fcea4360-8cbf-4b03-a39e-97eb3a0ef3cb"
            },
            "attachments": {}
        },
        {
            "cell_type": "code",
            "source": [
                "SELECT \r\n",
                "    YEAR(REND_DATUM) AS 'Év',\r\n",
                "    MONTH(REND_DATUM) AS 'Hónap',\r\n",
                "    COUNT(*) AS 'DB'\r\n",
                "FROM Rendeles\r\n",
                "WHERE REND_DATUM IS NOT NULL\r\n",
                "GROUP BY YEAR(REND_DATUM), MONTH(REND_DATUM)\r\n",
                "ORDER BY YEAR(REND_DATUM), MONTH(REND_DATUM)"
            ],
            "metadata": {
                "azdata_cell_guid": "d6c2cc13-c487-4331-968a-8b95a5f620a0",
                "language": "sql"
            },
            "outputs": [
                {
                    "output_type": "display_data",
                    "data": {
                        "text/html": "(24 rows affected)"
                    },
                    "metadata": {}
                },
                {
                    "output_type": "display_data",
                    "data": {
                        "text/html": "Total execution time: 00:00:00.064"
                    },
                    "metadata": {}
                },
                {
                    "output_type": "execute_result",
                    "metadata": {},
                    "execution_count": 8,
                    "data": {
                        "application/vnd.dataresource+json": {
                            "schema": {
                                "fields": [
                                    {
                                        "name": "Év"
                                    },
                                    {
                                        "name": "Hónap"
                                    },
                                    {
                                        "name": "DB"
                                    }
                                ]
                            },
                            "data": [
                                {
                                    "Év": "2015",
                                    "Hónap": "5",
                                    "DB": "1203"
                                },
                                {
                                    "Év": "2015",
                                    "Hónap": "6",
                                    "DB": "1155"
                                },
                                {
                                    "Év": "2015",
                                    "Hónap": "7",
                                    "DB": "1235"
                                },
                                {
                                    "Év": "2015",
                                    "Hónap": "8",
                                    "DB": "1276"
                                },
                                {
                                    "Év": "2015",
                                    "Hónap": "9",
                                    "DB": "1207"
                                },
                                {
                                    "Év": "2015",
                                    "Hónap": "10",
                                    "DB": "1233"
                                },
                                {
                                    "Év": "2015",
                                    "Hónap": "11",
                                    "DB": "1178"
                                },
                                {
                                    "Év": "2015",
                                    "Hónap": "12",
                                    "DB": "1260"
                                },
                                {
                                    "Év": "2016",
                                    "Hónap": "1",
                                    "DB": "1226"
                                },
                                {
                                    "Év": "2016",
                                    "Hónap": "2",
                                    "DB": "1193"
                                },
                                {
                                    "Év": "2016",
                                    "Hónap": "3",
                                    "DB": "1274"
                                },
                                {
                                    "Év": "2016",
                                    "Hónap": "4",
                                    "DB": "1259"
                                },
                                {
                                    "Év": "2016",
                                    "Hónap": "5",
                                    "DB": "1218"
                                },
                                {
                                    "Év": "2016",
                                    "Hónap": "6",
                                    "DB": "1214"
                                },
                                {
                                    "Év": "2016",
                                    "Hónap": "7",
                                    "DB": "1209"
                                },
                                {
                                    "Év": "2016",
                                    "Hónap": "8",
                                    "DB": "1274"
                                },
                                {
                                    "Év": "2016",
                                    "Hónap": "9",
                                    "DB": "1192"
                                },
                                {
                                    "Év": "2016",
                                    "Hónap": "10",
                                    "DB": "1277"
                                },
                                {
                                    "Év": "2016",
                                    "Hónap": "11",
                                    "DB": "1210"
                                },
                                {
                                    "Év": "2016",
                                    "Hónap": "12",
                                    "DB": "1227"
                                },
                                {
                                    "Év": "2017",
                                    "Hónap": "1",
                                    "DB": "1204"
                                },
                                {
                                    "Év": "2017",
                                    "Hónap": "2",
                                    "DB": "1081"
                                },
                                {
                                    "Év": "2017",
                                    "Hónap": "3",
                                    "DB": "1242"
                                },
                                {
                                    "Év": "2017",
                                    "Hónap": "4",
                                    "DB": "38"
                                }
                            ]
                        },
                        "text/html": [
                            "<table>",
                            "<tr><th>Év</th><th>Hónap</th><th>DB</th></tr>",
                            "<tr><td>2015</td><td>5</td><td>1203</td></tr>",
                            "<tr><td>2015</td><td>6</td><td>1155</td></tr>",
                            "<tr><td>2015</td><td>7</td><td>1235</td></tr>",
                            "<tr><td>2015</td><td>8</td><td>1276</td></tr>",
                            "<tr><td>2015</td><td>9</td><td>1207</td></tr>",
                            "<tr><td>2015</td><td>10</td><td>1233</td></tr>",
                            "<tr><td>2015</td><td>11</td><td>1178</td></tr>",
                            "<tr><td>2015</td><td>12</td><td>1260</td></tr>",
                            "<tr><td>2016</td><td>1</td><td>1226</td></tr>",
                            "<tr><td>2016</td><td>2</td><td>1193</td></tr>",
                            "<tr><td>2016</td><td>3</td><td>1274</td></tr>",
                            "<tr><td>2016</td><td>4</td><td>1259</td></tr>",
                            "<tr><td>2016</td><td>5</td><td>1218</td></tr>",
                            "<tr><td>2016</td><td>6</td><td>1214</td></tr>",
                            "<tr><td>2016</td><td>7</td><td>1209</td></tr>",
                            "<tr><td>2016</td><td>8</td><td>1274</td></tr>",
                            "<tr><td>2016</td><td>9</td><td>1192</td></tr>",
                            "<tr><td>2016</td><td>10</td><td>1277</td></tr>",
                            "<tr><td>2016</td><td>11</td><td>1210</td></tr>",
                            "<tr><td>2016</td><td>12</td><td>1227</td></tr>",
                            "<tr><td>2017</td><td>1</td><td>1204</td></tr>",
                            "<tr><td>2017</td><td>2</td><td>1081</td></tr>",
                            "<tr><td>2017</td><td>3</td><td>1242</td></tr>",
                            "<tr><td>2017</td><td>4</td><td>38</td></tr>",
                            "</table>"
                        ]
                    }
                }
            ],
            "execution_count": 8
        },
        {
            "cell_type": "markdown",
            "source": [
                "## **A 10 legforgalmasabb nap**\n",
                "\n",
                "(Az a tíz dátum, amikor a megrendelések száma a legmagasabb volt.)"
            ],
            "metadata": {
                "azdata_cell_guid": "f0458856-4129-400b-964d-5a85c7d3cf90"
            },
            "attachments": {}
        },
        {
            "cell_type": "code",
            "source": [
                "SELECT TOP 10 \r\n",
                "    REND_DATUM, \r\n",
                "    COUNT(*) AS 'DB'\r\n",
                "FROM Rendeles\r\n",
                "WHERE REND_DATUM IS NOT NULL\r\n",
                "GROUP BY REND_DATUM\r\n",
                "ORDER BY COUNT(*) DESC"
            ],
            "metadata": {
                "azdata_cell_guid": "b6fb707d-f18f-4243-8ed1-8c31e8dcc047",
                "language": "sql"
            },
            "outputs": [
                {
                    "output_type": "display_data",
                    "data": {
                        "text/html": "(10 rows affected)"
                    },
                    "metadata": {}
                },
                {
                    "output_type": "display_data",
                    "data": {
                        "text/html": "Total execution time: 00:00:00.055"
                    },
                    "metadata": {}
                },
                {
                    "output_type": "execute_result",
                    "metadata": {},
                    "execution_count": 10,
                    "data": {
                        "application/vnd.dataresource+json": {
                            "schema": {
                                "fields": [
                                    {
                                        "name": "REND_DATUM"
                                    },
                                    {
                                        "name": "DB"
                                    }
                                ]
                            },
                            "data": [
                                {
                                    "REND_DATUM": "2015-12-02",
                                    "DB": "52"
                                },
                                {
                                    "REND_DATUM": "2015-08-05",
                                    "DB": "50"
                                },
                                {
                                    "REND_DATUM": "2016-04-19",
                                    "DB": "50"
                                },
                                {
                                    "REND_DATUM": "2016-05-07",
                                    "DB": "50"
                                },
                                {
                                    "REND_DATUM": "2015-07-26",
                                    "DB": "50"
                                },
                                {
                                    "REND_DATUM": "2016-11-25",
                                    "DB": "49"
                                },
                                {
                                    "REND_DATUM": "2015-09-11",
                                    "DB": "49"
                                },
                                {
                                    "REND_DATUM": "2015-11-30",
                                    "DB": "49"
                                },
                                {
                                    "REND_DATUM": "2015-10-10",
                                    "DB": "49"
                                },
                                {
                                    "REND_DATUM": "2016-04-02",
                                    "DB": "49"
                                }
                            ]
                        },
                        "text/html": [
                            "<table>",
                            "<tr><th>REND_DATUM</th><th>DB</th></tr>",
                            "<tr><td>2015-12-02</td><td>52</td></tr>",
                            "<tr><td>2015-08-05</td><td>50</td></tr>",
                            "<tr><td>2016-04-19</td><td>50</td></tr>",
                            "<tr><td>2016-05-07</td><td>50</td></tr>",
                            "<tr><td>2015-07-26</td><td>50</td></tr>",
                            "<tr><td>2016-11-25</td><td>49</td></tr>",
                            "<tr><td>2015-09-11</td><td>49</td></tr>",
                            "<tr><td>2015-11-30</td><td>49</td></tr>",
                            "<tr><td>2015-10-10</td><td>49</td></tr>",
                            "<tr><td>2016-04-02</td><td>49</td></tr>",
                            "</table>"
                        ]
                    }
                }
            ],
            "execution_count": 10
        },
        {
            "cell_type": "markdown",
            "source": [
                "## **Átlagos kiszállítási idő**\n",
                "\n",
                "(átlagosan hány nap telik el a megrendelés és a szállítás között)"
            ],
            "metadata": {
                "azdata_cell_guid": "3c6c2e65-6304-4fe9-a2f9-033cfa0b528d"
            },
            "attachments": {}
        },
        {
            "cell_type": "code",
            "source": [
                "SELECT \r\n",
                "    AVG(DATEDIFF(DAY, REND_DATUM, SZALL_DATUM)) AS 'Átlagos szállítási idő (nap)'\r\n",
                "FROM Rendeles\r\n",
                "WHERE REND_DATUM IS NOT NULL AND SZALL_DATUM IS NOT NULL\r\n",
                ""
            ],
            "metadata": {
                "azdata_cell_guid": "77e14b6f-5825-45eb-b90b-86522a61184f",
                "language": "sql"
            },
            "outputs": [
                {
                    "output_type": "display_data",
                    "data": {
                        "text/html": "(1 row affected)"
                    },
                    "metadata": {}
                },
                {
                    "output_type": "display_data",
                    "data": {
                        "text/html": "Total execution time: 00:00:00.046"
                    },
                    "metadata": {}
                },
                {
                    "output_type": "execute_result",
                    "metadata": {},
                    "execution_count": 23,
                    "data": {
                        "application/vnd.dataresource+json": {
                            "schema": {
                                "fields": [
                                    {
                                        "name": "Átlagos szállítási idő (nap)"
                                    }
                                ]
                            },
                            "data": [
                                {
                                    "Átlagos szállítási idő (nap)": "5"
                                }
                            ]
                        },
                        "text/html": [
                            "<table>",
                            "<tr><th>Átlagos szállítási idő (nap)</th></tr>",
                            "<tr><td>5</td></tr>",
                            "</table>"
                        ]
                    }
                }
            ],
            "execution_count": 23
        },
        {
            "cell_type": "markdown",
            "source": [
                "## **Számlát kérők aránya**\n",
                "\n",
                "(a megrendelések hány százalékához kértek számlát)"
            ],
            "metadata": {
                "azdata_cell_guid": "4c392cdc-4f6f-4f0c-a542-f2c23964d5cf"
            },
            "attachments": {}
        },
        {
            "cell_type": "code",
            "source": [
                "SELECT \r\n",
                "    COUNT(*) AS 'Összes rendelés',\r\n",
                "    SUM(CASE WHEN SZAMLA_CIM IS NOT NULL THEN 1 ELSE 0 END) AS 'Számlát kérők',\r\n",
                "    (SUM(CASE WHEN SZAMLA_CIM IS NOT NULL THEN 1 ELSE 0 END) * 100.0 / COUNT(*)) AS 'Százalékos arány'\r\n",
                "FROM Rendeles\r\n",
                ""
            ],
            "metadata": {
                "azdata_cell_guid": "85df2212-2197-4a17-abf4-f8b7fbbddfde",
                "language": "sql"
            },
            "outputs": [
                {
                    "output_type": "display_data",
                    "data": {
                        "text/html": "(1 row affected)"
                    },
                    "metadata": {}
                },
                {
                    "output_type": "display_data",
                    "data": {
                        "text/html": "Total execution time: 00:00:00.041"
                    },
                    "metadata": {}
                },
                {
                    "output_type": "execute_result",
                    "metadata": {},
                    "execution_count": 25,
                    "data": {
                        "application/vnd.dataresource+json": {
                            "schema": {
                                "fields": [
                                    {
                                        "name": "Összes rendelés"
                                    },
                                    {
                                        "name": "Számlát kérők"
                                    },
                                    {
                                        "name": "Százalékos arány"
                                    }
                                ]
                            },
                            "data": [
                                {
                                    "Összes rendelés": "28085",
                                    "Számlát kérők": "2550",
                                    "Százalékos arány": "9.079579846893"
                                }
                            ]
                        },
                        "text/html": [
                            "<table>",
                            "<tr><th>Összes rendelés</th><th>Számlát kérők</th><th>Százalékos arány</th></tr>",
                            "<tr><td>28085</td><td>2550</td><td>9.079579846893</td></tr>",
                            "</table>"
                        ]
                    }
                }
            ],
            "execution_count": 25
        }
    ]
}